{
 "cells": [
  {
   "cell_type": "code",
   "id": "initial_id",
   "metadata": {
    "collapsed": true,
    "ExecuteTime": {
     "end_time": "2025-02-12T10:57:07.183563Z",
     "start_time": "2025-02-12T10:57:07.180489Z"
    }
   },
   "source": [
    "def middle(x, y, z):\n",
    "    if y < z:\n",
    "        if x < y:\n",
    "            return y\n",
    "        elif x < z:\n",
    "            return y\n",
    "    else:\n",
    "        if x > y:\n",
    "            return y\n",
    "        elif x > z:\n",
    "            return x\n",
    "    return z"
   ],
   "outputs": [],
   "execution_count": 44
  },
  {
   "cell_type": "code",
   "source": [
    "import inspect"
   ],
   "metadata": {
    "collapsed": false,
    "ExecuteTime": {
     "end_time": "2025-02-12T10:57:07.200794Z",
     "start_time": "2025-02-12T10:57:07.198503Z"
    }
   },
   "id": "4cfa82e759fba6fc",
   "outputs": [],
   "execution_count": 45
  },
  {
   "cell_type": "code",
   "source": [
    "source = inspect.getsource(middle)\n",
    "print(source)"
   ],
   "metadata": {
    "collapsed": false,
    "ExecuteTime": {
     "end_time": "2025-02-12T10:57:07.250123Z",
     "start_time": "2025-02-12T10:57:07.247182Z"
    }
   },
   "id": "365a80638eefa8dc",
   "outputs": [
    {
     "name": "stdout",
     "output_type": "stream",
     "text": [
      "def middle(x, y, z):\n",
      "    if y < z:\n",
      "        if x < y:\n",
      "            return y\n",
      "        elif x < z:\n",
      "            return y\n",
      "    else:\n",
      "        if x > y:\n",
      "            return y\n",
      "        elif x > z:\n",
      "            return x\n",
      "    return z\n",
      "\n"
     ]
    }
   ],
   "execution_count": 46
  },
  {
   "cell_type": "code",
   "source": [
    "middle_py = 'middle.py'\n",
    "tmp_py = 'tmp.py'"
   ],
   "metadata": {
    "collapsed": false,
    "ExecuteTime": {
     "end_time": "2025-02-12T10:57:07.276051Z",
     "start_time": "2025-02-12T10:57:07.273440Z"
    }
   },
   "id": "17bec2a7bcd08d95",
   "outputs": [],
   "execution_count": 47
  },
  {
   "cell_type": "code",
   "source": [
    "with open(middle_py, 'w') as fp:\n",
    "    fp.write(source)"
   ],
   "metadata": {
    "collapsed": false,
    "ExecuteTime": {
     "end_time": "2025-02-12T10:57:07.314724Z",
     "start_time": "2025-02-12T10:57:07.311990Z"
    }
   },
   "id": "12c6584a43e441f3",
   "outputs": [],
   "execution_count": 48
  },
  {
   "cell_type": "code",
   "source": "from efdd.events import instrument",
   "metadata": {
    "collapsed": false,
    "ExecuteTime": {
     "end_time": "2025-02-12T10:57:07.338200Z",
     "start_time": "2025-02-12T10:57:07.335682Z"
    }
   },
   "id": "4a38e95e682eac44",
   "outputs": [],
   "execution_count": 49
  },
  {
   "cell_type": "code",
   "source": "instrument(middle_py, tmp_py, \"middle.json\")",
   "metadata": {
    "collapsed": false,
    "ExecuteTime": {
     "end_time": "2025-02-12T10:57:07.378365Z",
     "start_time": "2025-02-12T10:57:07.361095Z"
    }
   },
   "id": "5b5f414257825406",
   "outputs": [
    {
     "name": "stderr",
     "output_type": "stream",
     "text": [
      "sflkit :: INFO     :: I found 82 events in middle.py.\n",
      "sflkit :: INFO     :: I found 82 events in middle.py.\n"
     ]
    }
   ],
   "execution_count": 50
  },
  {
   "cell_type": "code",
   "source": [
    "with open(tmp_py, 'r') as fp:\n",
    "    print(fp.read())"
   ],
   "metadata": {
    "collapsed": false,
    "ExecuteTime": {
     "end_time": "2025-02-12T10:57:07.427531Z",
     "start_time": "2025-02-12T10:57:07.424083Z"
    }
   },
   "id": "a2c32c47b3331066",
   "outputs": [
    {
     "name": "stdout",
     "output_type": "stream",
     "text": [
      "import sflkitlib.lib\n",
      "\n",
      "def middle(x, y, z):\n",
      "    try:\n",
      "        sflkitlib.lib.add_function_enter_event(0)\n",
      "        sk_tmp_57b9b092_0 = None\n",
      "        sflkitlib.lib.add_def_event(3, sflkitlib.lib.get_id(x), x, sflkitlib.lib.get_type(x))\n",
      "        sflkitlib.lib.add_def_event(4, sflkitlib.lib.get_id(y), y, sflkitlib.lib.get_type(y))\n",
      "        sflkitlib.lib.add_def_event(5, sflkitlib.lib.get_id(z), z, sflkitlib.lib.get_type(z))\n",
      "        try:\n",
      "            sflkitlib.lib.add_len_event(6, sflkitlib.lib.get_id(x), len(x))\n",
      "        except (AttributeError, TypeError, NameError):\n",
      "            pass\n",
      "        try:\n",
      "            sflkitlib.lib.add_len_event(7, sflkitlib.lib.get_id(y), len(y))\n",
      "        except (AttributeError, TypeError, NameError):\n",
      "            pass\n",
      "        try:\n",
      "            sflkitlib.lib.add_len_event(8, sflkitlib.lib.get_id(z), len(z))\n",
      "        except (AttributeError, TypeError, NameError):\n",
      "            pass\n",
      "        sflkitlib.lib.add_test_def_event(9, sflkitlib.lib.get_id(x))\n",
      "        sflkitlib.lib.add_test_def_event(10, sflkitlib.lib.get_id(y))\n",
      "        sflkitlib.lib.add_test_def_event(11, sflkitlib.lib.get_id(z))\n",
      "        sflkitlib.lib.add_line_event(12)\n",
      "        try:\n",
      "            sflkitlib.lib.add_use_event(15, sflkitlib.lib.get_id(y))\n",
      "        except (AttributeError, TypeError, NameError):\n",
      "            pass\n",
      "        try:\n",
      "            sflkitlib.lib.add_use_event(16, sflkitlib.lib.get_id(z))\n",
      "        except (AttributeError, TypeError, NameError):\n",
      "            pass\n",
      "        sk_tmp_57b9b092_1 = y < z\n",
      "        sflkitlib.lib.add_condition_event(17, sk_tmp_57b9b092_1)\n",
      "        sflkitlib.lib.add_test_line_event(18)\n",
      "        try:\n",
      "            sflkitlib.lib.add_test_use_event(19, sflkitlib.lib.get_id(y))\n",
      "        except (AttributeError, TypeError, NameError):\n",
      "            pass\n",
      "        try:\n",
      "            sflkitlib.lib.add_test_use_event(20, sflkitlib.lib.get_id(z))\n",
      "        except (AttributeError, TypeError, NameError):\n",
      "            pass\n",
      "        if sk_tmp_57b9b092_1:\n",
      "            sflkitlib.lib.add_branch_event(13)\n",
      "            sflkitlib.lib.add_line_event(21)\n",
      "            try:\n",
      "                sflkitlib.lib.add_use_event(24, sflkitlib.lib.get_id(x))\n",
      "            except (AttributeError, TypeError, NameError):\n",
      "                pass\n",
      "            try:\n",
      "                sflkitlib.lib.add_use_event(25, sflkitlib.lib.get_id(y))\n",
      "            except (AttributeError, TypeError, NameError):\n",
      "                pass\n",
      "            sk_tmp_57b9b092_2 = x < y\n",
      "            sflkitlib.lib.add_condition_event(26, sk_tmp_57b9b092_2)\n",
      "            sflkitlib.lib.add_test_line_event(27)\n",
      "            try:\n",
      "                sflkitlib.lib.add_test_use_event(28, sflkitlib.lib.get_id(x))\n",
      "            except (AttributeError, TypeError, NameError):\n",
      "                pass\n",
      "            try:\n",
      "                sflkitlib.lib.add_test_use_event(29, sflkitlib.lib.get_id(y))\n",
      "            except (AttributeError, TypeError, NameError):\n",
      "                pass\n",
      "            if sk_tmp_57b9b092_2:\n",
      "                sflkitlib.lib.add_branch_event(22)\n",
      "                sflkitlib.lib.add_line_event(30)\n",
      "                sk_tmp_57b9b092_0 = y\n",
      "                sflkitlib.lib.add_function_exit_event(31, sk_tmp_57b9b092_0, sflkitlib.lib.get_type(sk_tmp_57b9b092_0))\n",
      "                try:\n",
      "                    sflkitlib.lib.add_use_event(32, sflkitlib.lib.get_id(y))\n",
      "                except (AttributeError, TypeError, NameError):\n",
      "                    pass\n",
      "                sflkitlib.lib.add_test_line_event(33)\n",
      "                try:\n",
      "                    sflkitlib.lib.add_test_use_event(34, sflkitlib.lib.get_id(y))\n",
      "                except (AttributeError, TypeError, NameError):\n",
      "                    pass\n",
      "                return sk_tmp_57b9b092_0\n",
      "            else:\n",
      "                sflkitlib.lib.add_branch_event(23)\n",
      "                sflkitlib.lib.add_line_event(35)\n",
      "                try:\n",
      "                    sflkitlib.lib.add_use_event(38, sflkitlib.lib.get_id(x))\n",
      "                except (AttributeError, TypeError, NameError):\n",
      "                    pass\n",
      "                try:\n",
      "                    sflkitlib.lib.add_use_event(39, sflkitlib.lib.get_id(z))\n",
      "                except (AttributeError, TypeError, NameError):\n",
      "                    pass\n",
      "                sk_tmp_57b9b092_3 = x < z\n",
      "                sflkitlib.lib.add_condition_event(40, sk_tmp_57b9b092_3)\n",
      "                sflkitlib.lib.add_test_line_event(41)\n",
      "                try:\n",
      "                    sflkitlib.lib.add_test_use_event(42, sflkitlib.lib.get_id(x))\n",
      "                except (AttributeError, TypeError, NameError):\n",
      "                    pass\n",
      "                try:\n",
      "                    sflkitlib.lib.add_test_use_event(43, sflkitlib.lib.get_id(z))\n",
      "                except (AttributeError, TypeError, NameError):\n",
      "                    pass\n",
      "                if sk_tmp_57b9b092_3:\n",
      "                    sflkitlib.lib.add_branch_event(36)\n",
      "                    sflkitlib.lib.add_line_event(44)\n",
      "                    sk_tmp_57b9b092_0 = y\n",
      "                    sflkitlib.lib.add_function_exit_event(45, sk_tmp_57b9b092_0, sflkitlib.lib.get_type(sk_tmp_57b9b092_0))\n",
      "                    try:\n",
      "                        sflkitlib.lib.add_use_event(46, sflkitlib.lib.get_id(y))\n",
      "                    except (AttributeError, TypeError, NameError):\n",
      "                        pass\n",
      "                    sflkitlib.lib.add_test_line_event(47)\n",
      "                    try:\n",
      "                        sflkitlib.lib.add_test_use_event(48, sflkitlib.lib.get_id(y))\n",
      "                    except (AttributeError, TypeError, NameError):\n",
      "                        pass\n",
      "                    return sk_tmp_57b9b092_0\n",
      "                else:\n",
      "                    sflkitlib.lib.add_branch_event(37)\n",
      "        else:\n",
      "            sflkitlib.lib.add_branch_event(14)\n",
      "            sflkitlib.lib.add_line_event(49)\n",
      "            try:\n",
      "                sflkitlib.lib.add_use_event(52, sflkitlib.lib.get_id(x))\n",
      "            except (AttributeError, TypeError, NameError):\n",
      "                pass\n",
      "            try:\n",
      "                sflkitlib.lib.add_use_event(53, sflkitlib.lib.get_id(y))\n",
      "            except (AttributeError, TypeError, NameError):\n",
      "                pass\n",
      "            sk_tmp_57b9b092_4 = x > y\n",
      "            sflkitlib.lib.add_condition_event(54, sk_tmp_57b9b092_4)\n",
      "            sflkitlib.lib.add_test_line_event(55)\n",
      "            try:\n",
      "                sflkitlib.lib.add_test_use_event(56, sflkitlib.lib.get_id(x))\n",
      "            except (AttributeError, TypeError, NameError):\n",
      "                pass\n",
      "            try:\n",
      "                sflkitlib.lib.add_test_use_event(57, sflkitlib.lib.get_id(y))\n",
      "            except (AttributeError, TypeError, NameError):\n",
      "                pass\n",
      "            if sk_tmp_57b9b092_4:\n",
      "                sflkitlib.lib.add_branch_event(50)\n",
      "                sflkitlib.lib.add_line_event(58)\n",
      "                sk_tmp_57b9b092_0 = y\n",
      "                sflkitlib.lib.add_function_exit_event(59, sk_tmp_57b9b092_0, sflkitlib.lib.get_type(sk_tmp_57b9b092_0))\n",
      "                try:\n",
      "                    sflkitlib.lib.add_use_event(60, sflkitlib.lib.get_id(y))\n",
      "                except (AttributeError, TypeError, NameError):\n",
      "                    pass\n",
      "                sflkitlib.lib.add_test_line_event(61)\n",
      "                try:\n",
      "                    sflkitlib.lib.add_test_use_event(62, sflkitlib.lib.get_id(y))\n",
      "                except (AttributeError, TypeError, NameError):\n",
      "                    pass\n",
      "                return sk_tmp_57b9b092_0\n",
      "            else:\n",
      "                sflkitlib.lib.add_branch_event(51)\n",
      "                sflkitlib.lib.add_line_event(63)\n",
      "                try:\n",
      "                    sflkitlib.lib.add_use_event(66, sflkitlib.lib.get_id(x))\n",
      "                except (AttributeError, TypeError, NameError):\n",
      "                    pass\n",
      "                try:\n",
      "                    sflkitlib.lib.add_use_event(67, sflkitlib.lib.get_id(z))\n",
      "                except (AttributeError, TypeError, NameError):\n",
      "                    pass\n",
      "                sk_tmp_57b9b092_5 = x > z\n",
      "                sflkitlib.lib.add_condition_event(68, sk_tmp_57b9b092_5)\n",
      "                sflkitlib.lib.add_test_line_event(69)\n",
      "                try:\n",
      "                    sflkitlib.lib.add_test_use_event(70, sflkitlib.lib.get_id(x))\n",
      "                except (AttributeError, TypeError, NameError):\n",
      "                    pass\n",
      "                try:\n",
      "                    sflkitlib.lib.add_test_use_event(71, sflkitlib.lib.get_id(z))\n",
      "                except (AttributeError, TypeError, NameError):\n",
      "                    pass\n",
      "                if sk_tmp_57b9b092_5:\n",
      "                    sflkitlib.lib.add_branch_event(64)\n",
      "                    sflkitlib.lib.add_line_event(72)\n",
      "                    sk_tmp_57b9b092_0 = x\n",
      "                    sflkitlib.lib.add_function_exit_event(73, sk_tmp_57b9b092_0, sflkitlib.lib.get_type(sk_tmp_57b9b092_0))\n",
      "                    try:\n",
      "                        sflkitlib.lib.add_use_event(74, sflkitlib.lib.get_id(x))\n",
      "                    except (AttributeError, TypeError, NameError):\n",
      "                        pass\n",
      "                    sflkitlib.lib.add_test_line_event(75)\n",
      "                    try:\n",
      "                        sflkitlib.lib.add_test_use_event(76, sflkitlib.lib.get_id(x))\n",
      "                    except (AttributeError, TypeError, NameError):\n",
      "                        pass\n",
      "                    return sk_tmp_57b9b092_0\n",
      "                else:\n",
      "                    sflkitlib.lib.add_branch_event(65)\n",
      "        sflkitlib.lib.add_line_event(77)\n",
      "        sk_tmp_57b9b092_0 = z\n",
      "        sflkitlib.lib.add_function_exit_event(78, sk_tmp_57b9b092_0, sflkitlib.lib.get_type(sk_tmp_57b9b092_0))\n",
      "        try:\n",
      "            sflkitlib.lib.add_use_event(79, sflkitlib.lib.get_id(z))\n",
      "        except (AttributeError, TypeError, NameError):\n",
      "            pass\n",
      "        sflkitlib.lib.add_test_line_event(80)\n",
      "        try:\n",
      "            sflkitlib.lib.add_test_use_event(81, sflkitlib.lib.get_id(z))\n",
      "        except (AttributeError, TypeError, NameError):\n",
      "            pass\n",
      "        return sk_tmp_57b9b092_0\n",
      "        sflkitlib.lib.add_function_exit_event(1, sk_tmp_57b9b092_0, sflkitlib.lib.get_type(sk_tmp_57b9b092_0))\n",
      "    except BaseException as sk_tmp_57b9b092_6:\n",
      "        sflkitlib.lib.add_function_error_event(2)\n",
      "        raise sk_tmp_57b9b092_6\n"
     ]
    }
   ],
   "execution_count": 51
  },
  {
   "cell_type": "code",
   "source": [
    "import subprocess"
   ],
   "metadata": {
    "collapsed": false,
    "ExecuteTime": {
     "end_time": "2025-02-12T10:57:07.551623Z",
     "start_time": "2025-02-12T10:57:07.548744Z"
    }
   },
   "id": "533036428a39aeff",
   "outputs": [],
   "execution_count": 52
  },
  {
   "metadata": {
    "ExecuteTime": {
     "end_time": "2025-02-12T10:57:07.598400Z",
     "start_time": "2025-02-12T10:57:07.594949Z"
    }
   },
   "cell_type": "code",
   "source": [
    "access_py = \"middle_access.py\"\n",
    "def write_access(module):\n",
    "    with open(access_py, 'w') as f:\n",
    "        f.write(\n",
    "            \"import sys\\n\"\n",
    "            f\"import {module}\\n\"\n",
    "            \"\\n\"\n",
    "            'if __name__ == \"__main__\":\\n'\n",
    "            f\"    print({module}.middle(*list(map(int, sys.argv[1:]))))\\n\"\n",
    "        )\n",
    "\n",
    "write_access(\"middle\")"
   ],
   "id": "2b170f2fb3dae566",
   "outputs": [],
   "execution_count": 53
  },
  {
   "cell_type": "code",
   "source": "subprocess.run([\"python\", access_py, \"2\", \"3\", \"1\"])",
   "metadata": {
    "collapsed": false,
    "ExecuteTime": {
     "end_time": "2025-02-12T10:57:07.683865Z",
     "start_time": "2025-02-12T10:57:07.632427Z"
    }
   },
   "id": "e662ee2fbaa75c97",
   "outputs": [
    {
     "name": "stdout",
     "output_type": "stream",
     "text": [
      "2\n"
     ]
    },
    {
     "data": {
      "text/plain": [
       "CompletedProcess(args=['python', 'middle_access.py', '2', '3', '1'], returncode=0)"
      ]
     },
     "execution_count": 54,
     "metadata": {},
     "output_type": "execute_result"
    }
   ],
   "execution_count": 54
  },
  {
   "cell_type": "code",
   "source": [
    "from efdd.events import SystemtestEventCollector\n",
    "from sflkit.features.handler import EventHandler\n",
    "import os"
   ],
   "metadata": {
    "collapsed": false,
    "ExecuteTime": {
     "end_time": "2025-02-12T10:57:07.721250Z",
     "start_time": "2025-02-12T10:57:07.718355Z"
    }
   },
   "id": "a258c9718d82a340",
   "outputs": [],
   "execution_count": 55
  },
  {
   "cell_type": "code",
   "source": [
    "passing, failing = (\n",
    "    [\n",
    "        [\"3\", \"3\", \"5\"],\n",
    "        [\"1\", \"2\", \"3\"],\n",
    "        [\"3\", \"2\", \"1\"],\n",
    "        [\"5\", \"5\", \"1\"],\n",
    "        [\"5\", \"3\", \"4\"],\n",
    "    ],\n",
    "    [\n",
    "        [\"2\", \"1\", \"3\"]\n",
    "    ]\n",
    ")"
   ],
   "metadata": {
    "collapsed": false,
    "ExecuteTime": {
     "end_time": "2025-02-12T10:57:07.774351Z",
     "start_time": "2025-02-12T10:57:07.771292Z"
    }
   },
   "id": "fd71b3128e3801f0",
   "outputs": [],
   "execution_count": 56
  },
  {
   "metadata": {
    "ExecuteTime": {
     "end_time": "2025-02-12T10:57:07.795448Z",
     "start_time": "2025-02-12T10:57:07.792363Z"
    }
   },
   "cell_type": "code",
   "source": "write_access(\"tmp\")",
   "id": "8ca3404e593e5f57",
   "outputs": [],
   "execution_count": 57
  },
  {
   "cell_type": "code",
   "source": [
    "collector = SystemtestEventCollector(os.getcwd(), middle_py, access_py, mapping_path=\"middle.json\")\n",
    "events = collector.get_events((passing, failing))\n",
    "handler = EventHandler()\n",
    "handler.handle_files(events)\n",
    "all_features = handler.builder.get_all_features()"
   ],
   "metadata": {
    "collapsed": false,
    "ExecuteTime": {
     "end_time": "2025-02-12T10:57:08.180791Z",
     "start_time": "2025-02-12T10:57:07.816599Z"
    }
   },
   "id": "91ad02b45e3b4430",
   "outputs": [],
   "execution_count": 58
  },
  {
   "cell_type": "code",
   "source": "from efdd.learning import DecisionTreeDiagnosis",
   "metadata": {
    "collapsed": false,
    "ExecuteTime": {
     "end_time": "2025-02-12T10:57:08.189420Z",
     "start_time": "2025-02-12T10:57:08.186492Z"
    }
   },
   "id": "56969fcdcfe4c13e",
   "outputs": [],
   "execution_count": 59
  },
  {
   "cell_type": "code",
   "source": [
    "diagnosis = DecisionTreeDiagnosis()\n",
    "diagnosis.fit(\n",
    "    all_features,\n",
    "    handler,\n",
    ")"
   ],
   "metadata": {
    "collapsed": false,
    "ExecuteTime": {
     "end_time": "2025-02-12T10:57:08.209551Z",
     "start_time": "2025-02-12T10:57:08.201244Z"
    }
   },
   "id": "97b9aa6ecb2c547d",
   "outputs": [],
   "execution_count": 60
  },
  {
   "cell_type": "code",
   "source": "explanation = diagnosis.explain()",
   "metadata": {
    "collapsed": false,
    "ExecuteTime": {
     "end_time": "2025-02-12T10:57:08.225545Z",
     "start_time": "2025-02-12T10:57:08.221073Z"
    }
   },
   "id": "949015d3dac585f2",
   "outputs": [],
   "execution_count": 61
  },
  {
   "cell_type": "code",
   "source": [
    "import matplotlib.pyplot as plt\n",
    "from heatmap import heatmap"
   ],
   "metadata": {
    "collapsed": false,
    "ExecuteTime": {
     "end_time": "2025-02-12T10:57:08.244356Z",
     "start_time": "2025-02-12T10:57:08.241725Z"
    }
   },
   "id": "72b71c53a9894b38",
   "outputs": [],
   "execution_count": 62
  },
  {
   "cell_type": "code",
   "source": [
    "heatmap(explanation[:,:,1], max_display=3, show=False, plot_width=6.5)\n",
    "plt.savefig(\"shap.pdf\")"
   ],
   "metadata": {
    "collapsed": false,
    "ExecuteTime": {
     "end_time": "2025-02-12T10:57:08.469436Z",
     "start_time": "2025-02-12T10:57:08.257087Z"
    }
   },
   "id": "b2dd9c7d7b004def",
   "outputs": [
    {
     "data": {
      "text/plain": [
       "<Figure size 650x400 with 2 Axes>"
      ],
      "image/png": "[encoded data removed]"
     },
     "metadata": {},
     "output_type": "display_data"
    }
   ],
   "execution_count": 63
  },
  {
   "cell_type": "code",
   "source": [
    "from sklearn import tree"
   ],
   "metadata": {
    "collapsed": false,
    "ExecuteTime": {
     "end_time": "2025-02-12T10:57:08.491722Z",
     "start_time": "2025-02-12T10:57:08.489320Z"
    }
   },
   "id": "5cca03283fdda133",
   "outputs": [],
   "execution_count": 64
  },
  {
   "cell_type": "code",
   "source": [
    "tree.plot_tree(\n",
    "    diagnosis.model,\n",
    "    feature_names=list(map(lambda f: f.name, all_features)), \n",
    "    class_names=[\"No Bug\", \"Bug\"], \n",
    "    filled=False,\n",
    "    impurity=False\n",
    ")"
   ],
   "metadata": {
    "collapsed": false,
    "ExecuteTime": {
     "end_time": "2025-02-12T10:57:08.674863Z",
     "start_time": "2025-02-12T10:57:08.519722Z"
    }
   },
   "id": "3bd74cc9fed40cf9",
   "outputs": [
    {
     "data": {
      "text/plain": [
       "[Text(0.4, 0.8333333333333334, 'RETURN:middle.py:6:middleGE0 <= 0.5\\nsamples = 6\\nvalue = [5, 1]\\nclass = No Bug'),\n",
       " Text(0.2, 0.5, 'samples = 4\\nvalue = [4, 0]\\nclass = No Bug'),\n",
       " Text(0.30000000000000004, 0.6666666666666667, 'True  '),\n",
       " Text(0.6, 0.5, 'SCALAR_PAIR:middle.py:1:yGEx <= 0.5\\nsamples = 2\\nvalue = [1, 1]\\nclass = No Bug'),\n",
       " Text(0.5, 0.6666666666666667, '  False'),\n",
       " Text(0.4, 0.16666666666666666, 'samples = 1\\nvalue = [0, 1]\\nclass = Bug'),\n",
       " Text(0.8, 0.16666666666666666, 'samples = 1\\nvalue = [1, 0]\\nclass = No Bug')]"
      ]
     },
     "execution_count": 65,
     "metadata": {},
     "output_type": "execute_result"
    },
    {
     "data": {
      "text/plain": [
       "<Figure size 640x480 with 1 Axes>"
      ],
      "image/png": "[encoded data removed]"
     },
     "metadata": {},
     "output_type": "display_data"
    }
   ],
   "execution_count": 65
  },
  {
   "metadata": {
    "ExecuteTime": {
     "end_time": "2025-02-12T10:57:08.688618Z",
     "start_time": "2025-02-12T10:57:08.686760Z"
    }
   },
   "cell_type": "code",
   "source": "",
   "id": "b0cbee1b716e1ee8",
   "outputs": [],
   "execution_count": null
  }
 ],
 "metadata": {
  "kernelspec": {
   "display_name": "Python 3",
   "language": "python",
   "name": "python3"
  },
  "language_info": {
   "codemirror_mode": {
    "name": "ipython",
    "version": 2
   },
   "file_extension": ".py",
   "mimetype": "text/x-python",
   "name": "python",
   "nbconvert_exporter": "python",
   "pygments_lexer": "ipython2",
   "version": "2.7.6"
  }
 },
 "nbformat": 4,
 "nbformat_minor": 5
}
